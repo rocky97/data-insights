{
 "cells": [
  {
   "cell_type": "code",
   "execution_count": 145,
   "id": "61c3be34",
   "metadata": {},
   "outputs": [],
   "source": [
    "import pandas as pd\n",
    "import numpy as np\n",
    "import matplotlib.pyplot as plot\n",
    "from langdetect import detect, DetectorFactory\n",
    "import re"
   ]
  },
  {
   "cell_type": "code",
   "execution_count": 146,
   "id": "291eb03c",
   "metadata": {},
   "outputs": [],
   "source": [
    "df = pd.read_excel(\"data.xlsx\")\n",
    "df.fillna('-')\n",
    "list_of_comments = df['Verbatim']"
   ]
  },
  {
   "cell_type": "code",
   "execution_count": 147,
   "id": "39a9e4b0",
   "metadata": {},
   "outputs": [],
   "source": [
    "# The following lines of code cleans the Touchpoint column of the dataset\n",
    "\n",
    "df['Touchpoint'] = df['Touchpoint'].str.replace('&lt;item&gt;', '')\n",
    "df['Touchpoint'] = df['Touchpoint'].str.replace('&lt;/item&gt;', ', ')"
   ]
  },
  {
   "cell_type": "code",
   "execution_count": 148,
   "id": "941a8142",
   "metadata": {},
   "outputs": [],
   "source": [
    "clean_verbatim = []\n",
    "\n",
    "for i in list_of_comments:\n",
    "    cleaned_output = re.sub(r'[^a-zA-z\\s]','',str(i))\n",
    "#     cleaned_output = re.sub(r'[^\\w\\s]','',str(i))\n",
    "#     cleaned_output = re.sub(r'ï½','', cleaned_output)\n",
    "    clean_verbatim += [cleaned_output.lower()]\n",
    "    \n",
    "df['Verbatim'] = clean_verbatim"
   ]
  },
  {
   "cell_type": "code",
   "execution_count": 149,
   "id": "38b14c1c",
   "metadata": {},
   "outputs": [
    {
     "name": "stdout",
     "output_type": "stream",
     "text": [
      "These are unique products that the bank offers to customers: ['CASA', 'Credit Card', 'FD', 'Mortgage', 'HP', 'PF']\n"
     ]
    }
   ],
   "source": [
    "# CASA is Current Account Savings Account\n",
    "\n",
    "print(\"These are unique products that the bank offers to customers:\", pd.unique(df['Product']).tolist())"
   ]
  },
  {
   "cell_type": "code",
   "execution_count": 142,
   "id": "51f088bf",
   "metadata": {},
   "outputs": [],
   "source": [
    "comments_type = []\n",
    "\n",
    "for i in list_of_comments:\n",
    "    if (i != '') & (len(i) > 3) :\n",
    "        DetectorFactory.seed = 0\n",
    "        lang_type = detect(i)\n",
    "        if lang_type == 'en':\n",
    "            comments_type += ['en']\n",
    "        else:\n",
    "            comments_type += ['ms']\n",
    "    else:\n",
    "        comments_type += ['undefined']\n",
    "        \n",
    "df['Language Used'] = comments_type"
   ]
  },
  {
   "cell_type": "markdown",
   "id": "708fcefd",
   "metadata": {},
   "source": [
    "\"Language Used\" column indicates \"ms\" for Malay language verbatim and \"en\" for English language verbatim. Undefined language implies verbatim was not particularly useful and can be discarded."
   ]
  },
  {
   "cell_type": "code",
   "execution_count": 150,
   "id": "266c111f",
   "metadata": {
    "scrolled": true
   },
   "outputs": [
    {
     "data": {
      "text/html": [
       "<div>\n",
       "<style scoped>\n",
       "    .dataframe tbody tr th:only-of-type {\n",
       "        vertical-align: middle;\n",
       "    }\n",
       "\n",
       "    .dataframe tbody tr th {\n",
       "        vertical-align: top;\n",
       "    }\n",
       "\n",
       "    .dataframe thead th {\n",
       "        text-align: right;\n",
       "    }\n",
       "</style>\n",
       "<table border=\"1\" class=\"dataframe\">\n",
       "  <thead>\n",
       "    <tr style=\"text-align: right;\">\n",
       "      <th></th>\n",
       "      <th>Created</th>\n",
       "      <th>Date</th>\n",
       "      <th>Touchpoint</th>\n",
       "      <th>Rating</th>\n",
       "      <th>Verbatim</th>\n",
       "      <th>Preferred Bank</th>\n",
       "      <th>Product</th>\n",
       "      <th>ID</th>\n",
       "    </tr>\n",
       "  </thead>\n",
       "  <tbody>\n",
       "    <tr>\n",
       "      <th>0</th>\n",
       "      <td>8/27/2020 4:42:25 PM</td>\n",
       "      <td>8/27/2020 16:42:24</td>\n",
       "      <td>Branch,</td>\n",
       "      <td>7</td>\n",
       "      <td>talian careline susah dijawab harus diperbaiki</td>\n",
       "      <td>RHB</td>\n",
       "      <td>CASA</td>\n",
       "      <td>bedba74e-1c23-4772-9ca9-6bf81bd1b27f</td>\n",
       "    </tr>\n",
       "    <tr>\n",
       "      <th>1</th>\n",
       "      <td>8/27/2020 5:22:49 PM</td>\n",
       "      <td>8/27/2020 17:22:33</td>\n",
       "      <td>ATM, Cash Deposit Machines,</td>\n",
       "      <td>6</td>\n",
       "      <td>tiada atm atau rhb di jasin melaka</td>\n",
       "      <td>Maybank</td>\n",
       "      <td>CASA</td>\n",
       "      <td>e170ee8d-1287-4f22-b597-c1f2d2b3e2cc</td>\n",
       "    </tr>\n",
       "    <tr>\n",
       "      <th>2</th>\n",
       "      <td>8/27/2020 5:50:18 PM</td>\n",
       "      <td>8/27/2020 17:50:17</td>\n",
       "      <td>RHB Mobile Banking Application, ATM, Cash Depo...</td>\n",
       "      <td>6</td>\n",
       "      <td>up grade your apps</td>\n",
       "      <td>Affin Bank CIMB</td>\n",
       "      <td>CASA</td>\n",
       "      <td>feb9fc8d-15c3-407b-961a-e1f09677f3d0</td>\n",
       "    </tr>\n",
       "    <tr>\n",
       "      <th>3</th>\n",
       "      <td>8/27/2020 8:12:22 PM</td>\n",
       "      <td>8/27/2020 20:12:19</td>\n",
       "      <td>Branch, ATM, Cash Deposit Machines,</td>\n",
       "      <td>10</td>\n",
       "      <td>mengekalkan perkhidmatan seperti sekarang dan ...</td>\n",
       "      <td>Rhb bank di petaling jaya ss2.</td>\n",
       "      <td>CASA</td>\n",
       "      <td>22990519-8eb0-4a16-9e07-c9050c50e520</td>\n",
       "    </tr>\n",
       "    <tr>\n",
       "      <th>4</th>\n",
       "      <td>8/27/2020 8:14:38 PM</td>\n",
       "      <td>8/27/2020 20:14:36</td>\n",
       "      <td>RHB Internet Banking,</td>\n",
       "      <td>5</td>\n",
       "      <td>hope can improve mobile app factions or link b...</td>\n",
       "      <td>ocbc pub</td>\n",
       "      <td>CASA</td>\n",
       "      <td>d2122a89-2eef-43e0-b8f8-44d399c04498</td>\n",
       "    </tr>\n",
       "  </tbody>\n",
       "</table>\n",
       "</div>"
      ],
      "text/plain": [
       "                Created                Date  \\\n",
       "0  8/27/2020 4:42:25 PM  8/27/2020 16:42:24   \n",
       "1  8/27/2020 5:22:49 PM  8/27/2020 17:22:33   \n",
       "2  8/27/2020 5:50:18 PM  8/27/2020 17:50:17   \n",
       "3  8/27/2020 8:12:22 PM  8/27/2020 20:12:19   \n",
       "4  8/27/2020 8:14:38 PM  8/27/2020 20:14:36   \n",
       "\n",
       "                                          Touchpoint  Rating  \\\n",
       "0                                           Branch,        7   \n",
       "1                       ATM, Cash Deposit Machines,        6   \n",
       "2  RHB Mobile Banking Application, ATM, Cash Depo...       6   \n",
       "3               Branch, ATM, Cash Deposit Machines,       10   \n",
       "4                             RHB Internet Banking,        5   \n",
       "\n",
       "                                            Verbatim  \\\n",
       "0     talian careline susah dijawab harus diperbaiki   \n",
       "1                 tiada atm atau rhb di jasin melaka   \n",
       "2                                 up grade your apps   \n",
       "3  mengekalkan perkhidmatan seperti sekarang dan ...   \n",
       "4  hope can improve mobile app factions or link b...   \n",
       "\n",
       "                   Preferred Bank Product  \\\n",
       "0                             RHB    CASA   \n",
       "1                         Maybank    CASA   \n",
       "2                Affin Bank CIMB     CASA   \n",
       "3  Rhb bank di petaling jaya ss2.    CASA   \n",
       "4                       ocbc pub     CASA   \n",
       "\n",
       "                                     ID  \n",
       "0  bedba74e-1c23-4772-9ca9-6bf81bd1b27f  \n",
       "1  e170ee8d-1287-4f22-b597-c1f2d2b3e2cc  \n",
       "2  feb9fc8d-15c3-407b-961a-e1f09677f3d0  \n",
       "3  22990519-8eb0-4a16-9e07-c9050c50e520  \n",
       "4  d2122a89-2eef-43e0-b8f8-44d399c04498  "
      ]
     },
     "execution_count": 150,
     "metadata": {},
     "output_type": "execute_result"
    }
   ],
   "source": [
    "df.head()"
   ]
  },
  {
   "cell_type": "code",
   "execution_count": 152,
   "id": "23baf67b",
   "metadata": {
    "scrolled": true
   },
   "outputs": [
    {
     "data": {
      "text/plain": [
       "''"
      ]
     },
     "execution_count": 152,
     "metadata": {},
     "output_type": "execute_result"
    }
   ],
   "source": [
    "df['Verbatim'][20]"
   ]
  },
  {
   "cell_type": "code",
   "execution_count": null,
   "id": "ef805010",
   "metadata": {},
   "outputs": [],
   "source": []
  }
 ],
 "metadata": {
  "kernelspec": {
   "display_name": "Python 3 (ipykernel)",
   "language": "python",
   "name": "python3"
  },
  "language_info": {
   "codemirror_mode": {
    "name": "ipython",
    "version": 3
   },
   "file_extension": ".py",
   "mimetype": "text/x-python",
   "name": "python",
   "nbconvert_exporter": "python",
   "pygments_lexer": "ipython3",
   "version": "3.9.7"
  }
 },
 "nbformat": 4,
 "nbformat_minor": 5
}
